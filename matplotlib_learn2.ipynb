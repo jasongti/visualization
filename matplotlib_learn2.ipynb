{
 "cells": [
  {
   "cell_type": "code",
   "execution_count": 1,
   "metadata": {
    "pycharm": {}
   },
   "outputs": [],
   "source": [
    "# coding:'utf8'\n",
    "from matplotlib import pyplot as plt\n",
    "import pandas as pd"
   ]
  },
  {
   "cell_type": "code",
   "execution_count": 2,
   "metadata": {},
   "outputs": [
    {
     "data": {
      "text/html": [
       "<div>\n",
       "<style scoped>\n",
       "    .dataframe tbody tr th:only-of-type {\n",
       "        vertical-align: middle;\n",
       "    }\n",
       "\n",
       "    .dataframe tbody tr th {\n",
       "        vertical-align: top;\n",
       "    }\n",
       "\n",
       "    .dataframe thead th {\n",
       "        text-align: right;\n",
       "    }\n",
       "</style>\n",
       "<table border=\"1\" class=\"dataframe\">\n",
       "  <thead>\n",
       "    <tr style=\"text-align: right;\">\n",
       "      <th></th>\n",
       "      <th>类型</th>\n",
       "      <th>id</th>\n",
       "      <th>标签</th>\n",
       "      <th>回答id</th>\n",
       "      <th>回答点赞数</th>\n",
       "      <th>回答评论数</th>\n",
       "      <th>回答感谢数</th>\n",
       "      <th>回答观看数</th>\n",
       "      <th>回答创建时间</th>\n",
       "      <th>问题id</th>\n",
       "      <th>问题题目</th>\n",
       "      <th>问题回答数</th>\n",
       "      <th>问题关注数</th>\n",
       "      <th>评论数</th>\n",
       "      <th>创建时间</th>\n",
       "    </tr>\n",
       "  </thead>\n",
       "  <tbody>\n",
       "    <tr>\n",
       "      <td>0</td>\n",
       "      <td>answer</td>\n",
       "      <td>12_1574824946.178</td>\n",
       "      <td>二次元</td>\n",
       "      <td>734170020</td>\n",
       "      <td>4859</td>\n",
       "      <td>656</td>\n",
       "      <td>564</td>\n",
       "      <td>1120728</td>\n",
       "      <td>1561974232</td>\n",
       "      <td>62972819</td>\n",
       "      <td>你们见过最好看的 coser 长什么样？</td>\n",
       "      <td>1607</td>\n",
       "      <td>30094</td>\n",
       "      <td>30</td>\n",
       "      <td>1501051575</td>\n",
       "    </tr>\n",
       "    <tr>\n",
       "      <td>1</td>\n",
       "      <td>answer</td>\n",
       "      <td>13_1574824946.45</td>\n",
       "      <td>生活</td>\n",
       "      <td>629465796</td>\n",
       "      <td>46827</td>\n",
       "      <td>1594</td>\n",
       "      <td>12491</td>\n",
       "      <td>4517999</td>\n",
       "      <td>1553236233</td>\n",
       "      <td>63894266</td>\n",
       "      <td>生活中有哪些残忍的真相？</td>\n",
       "      <td>2505</td>\n",
       "      <td>57217</td>\n",
       "      <td>50</td>\n",
       "      <td>1502701040</td>\n",
       "    </tr>\n",
       "    <tr>\n",
       "      <td>2</td>\n",
       "      <td>answer</td>\n",
       "      <td>14_1574824946.791</td>\n",
       "      <td>高考</td>\n",
       "      <td>344182099</td>\n",
       "      <td>25739</td>\n",
       "      <td>2465</td>\n",
       "      <td>5072</td>\n",
       "      <td>1575771</td>\n",
       "      <td>1521306846</td>\n",
       "      <td>266837866</td>\n",
       "      <td>你们是怎么考上 985 的，每科多少分？</td>\n",
       "      <td>3527</td>\n",
       "      <td>28092</td>\n",
       "      <td>64</td>\n",
       "      <td>1518015871</td>\n",
       "    </tr>\n",
       "    <tr>\n",
       "      <td>3</td>\n",
       "      <td>answer</td>\n",
       "      <td>15_1574824946.795</td>\n",
       "      <td>网恋</td>\n",
       "      <td>792191898</td>\n",
       "      <td>8948</td>\n",
       "      <td>1938</td>\n",
       "      <td>965</td>\n",
       "      <td>1261527</td>\n",
       "      <td>1566029684</td>\n",
       "      <td>270608371</td>\n",
       "      <td>网恋奔现失败是种什么体验？</td>\n",
       "      <td>5751</td>\n",
       "      <td>28491</td>\n",
       "      <td>122</td>\n",
       "      <td>1522496497</td>\n",
       "    </tr>\n",
       "    <tr>\n",
       "      <td>4</td>\n",
       "      <td>answer</td>\n",
       "      <td>17_1574824946.818</td>\n",
       "      <td>健康</td>\n",
       "      <td>868188823</td>\n",
       "      <td>884</td>\n",
       "      <td>246</td>\n",
       "      <td>235</td>\n",
       "      <td>329706</td>\n",
       "      <td>1571893264</td>\n",
       "      <td>27128132</td>\n",
       "      <td>如何有效地戒糖？</td>\n",
       "      <td>500</td>\n",
       "      <td>19048</td>\n",
       "      <td>33</td>\n",
       "      <td>1418828372</td>\n",
       "    </tr>\n",
       "  </tbody>\n",
       "</table>\n",
       "</div>"
      ],
      "text/plain": [
       "       类型                 id   标签       回答id  回答点赞数  回答评论数  回答感谢数    回答观看数  \\\n",
       "0  answer  12_1574824946.178  二次元  734170020   4859    656    564  1120728   \n",
       "1  answer   13_1574824946.45   生活  629465796  46827   1594  12491  4517999   \n",
       "2  answer  14_1574824946.791   高考  344182099  25739   2465   5072  1575771   \n",
       "3  answer  15_1574824946.795   网恋  792191898   8948   1938    965  1261527   \n",
       "4  answer  17_1574824946.818   健康  868188823    884    246    235   329706   \n",
       "\n",
       "       回答创建时间       问题id                  问题题目  问题回答数  问题关注数  评论数        创建时间  \n",
       "0  1561974232   62972819  你们见过最好看的 coser 长什么样？   1607  30094   30  1501051575  \n",
       "1  1553236233   63894266          生活中有哪些残忍的真相？   2505  57217   50  1502701040  \n",
       "2  1521306846  266837866  你们是怎么考上 985 的，每科多少分？   3527  28092   64  1518015871  \n",
       "3  1566029684  270608371         网恋奔现失败是种什么体验？   5751  28491  122  1522496497  \n",
       "4  1571893264   27128132              如何有效地戒糖？    500  19048   33  1418828372  "
      ]
     },
     "execution_count": 2,
     "metadata": {},
     "output_type": "execute_result"
    }
   ],
   "source": [
    "f = open('task_3.1_zhihu_timeline_answer.csv')\n",
    "zhihu_data_answer = pd.read_csv(f)\n",
    "zhihu_data_answer.head()"
   ]
  },
  {
   "cell_type": "code",
   "execution_count": 3,
   "metadata": {},
   "outputs": [
    {
     "data": {
      "text/plain": [
       "<matplotlib.collections.PathCollection at 0x11fdce210>"
      ]
     },
     "execution_count": 3,
     "metadata": {},
     "output_type": "execute_result"
    },
    {
     "data": {
      "image/png": "[encoded data removed]",
      "text/plain": [
       "<Figure size 432x288 with 1 Axes>"
      ]
     },
     "metadata": {
      "needs_background": "light"
     },
     "output_type": "display_data"
    }
   ],
   "source": [
    "like_num = zhihu_data_answer['回答点赞数'].values\n",
    "thanks_num = zhihu_data_answer['回答感谢数'].values\n",
    "sValue = like_num/10000\n",
    "fig1 = plt.figure()\n",
    "ax = fig1.add_subplot(111)\n",
    "ax.set_title('like VS thanks')\n",
    "ax.set_xlabel('like_num')\n",
    "ax.set_ylabel('thanks_num')\n",
    "ax.scatter(like_num,thanks_num,s = sValue)"
   ]
  },
  {
   "cell_type": "code",
   "execution_count": 4,
   "metadata": {},
   "outputs": [
    {
     "data": {
      "text/plain": [
       "<matplotlib.collections.PathCollection at 0x10d728750>"
      ]
     },
     "execution_count": 4,
     "metadata": {},
     "output_type": "execute_result"
    },
    {
     "data": {
      "image/png": "[encoded data removed]",
      "text/plain": [
       "<Figure size 432x288 with 1 Axes>"
      ]
     },
     "metadata": {
      "needs_background": "light"
     },
     "output_type": "display_data"
    }
   ],
   "source": [
    "answer_num = zhihu_data_answer['问题回答数'].values\n",
    "attention_num = zhihu_data_answer['问题关注数'].values\n",
    "fig2,bx = plt.subplots(1,1)\n",
    "bx.set_title('answer VS attention')\n",
    "bx.set_xlabel('answer_num')\n",
    "bx.set_ylabel('attention_num')\n",
    "bx.scatter(answer_num,attention_num)"
   ]
  },
  {
   "cell_type": "code",
   "execution_count": 5,
   "metadata": {},
   "outputs": [
    {
     "data": {
      "text/html": [
       "<div>\n",
       "<style scoped>\n",
       "    .dataframe tbody tr th:only-of-type {\n",
       "        vertical-align: middle;\n",
       "    }\n",
       "\n",
       "    .dataframe tbody tr th {\n",
       "        vertical-align: top;\n",
       "    }\n",
       "\n",
       "    .dataframe thead th {\n",
       "        text-align: right;\n",
       "    }\n",
       "</style>\n",
       "<table border=\"1\" class=\"dataframe\">\n",
       "  <thead>\n",
       "    <tr style=\"text-align: right;\">\n",
       "      <th></th>\n",
       "      <th>类型</th>\n",
       "      <th>总 id</th>\n",
       "      <th>关键词</th>\n",
       "      <th>文章 id</th>\n",
       "      <th>文章点赞数</th>\n",
       "      <th>文章评论数</th>\n",
       "      <th>文章题目（文章没有感谢数）</th>\n",
       "      <th>文章观看数</th>\n",
       "      <th>文章创建时间</th>\n",
       "    </tr>\n",
       "  </thead>\n",
       "  <tbody>\n",
       "    <tr>\n",
       "      <td>0</td>\n",
       "      <td>article</td>\n",
       "      <td>14_1574825136.990</td>\n",
       "      <td>李小璐</td>\n",
       "      <td>90620737</td>\n",
       "      <td>774</td>\n",
       "      <td>267</td>\n",
       "      <td>“李小璐出轨视频曝光7天后，我识破了令人胆寒的爱情真相”</td>\n",
       "      <td>245037</td>\n",
       "      <td>1573089756</td>\n",
       "    </tr>\n",
       "    <tr>\n",
       "      <td>1</td>\n",
       "      <td>article</td>\n",
       "      <td>14_1574825137.717</td>\n",
       "      <td>主持人</td>\n",
       "      <td>90576308</td>\n",
       "      <td>25365</td>\n",
       "      <td>1157</td>\n",
       "      <td>谢娜与董卿同台被“碾压”: 文化断层到底有多可怕?</td>\n",
       "      <td>1072054</td>\n",
       "      <td>1573047546</td>\n",
       "    </tr>\n",
       "    <tr>\n",
       "      <td>2</td>\n",
       "      <td>article</td>\n",
       "      <td>13_1574825137.707</td>\n",
       "      <td>刘涛</td>\n",
       "      <td>92353372</td>\n",
       "      <td>339</td>\n",
       "      <td>65</td>\n",
       "      <td>刘涛，你够了！</td>\n",
       "      <td>215292</td>\n",
       "      <td>1574051699</td>\n",
       "    </tr>\n",
       "    <tr>\n",
       "      <td>3</td>\n",
       "      <td>article</td>\n",
       "      <td>14_1574825138.917</td>\n",
       "      <td>网贷风险</td>\n",
       "      <td>83742265</td>\n",
       "      <td>149</td>\n",
       "      <td>90</td>\n",
       "      <td>因面子，深陷网贷的我，最后这样上岸</td>\n",
       "      <td>63565</td>\n",
       "      <td>1569225309</td>\n",
       "    </tr>\n",
       "    <tr>\n",
       "      <td>4</td>\n",
       "      <td>article</td>\n",
       "      <td>16_1574825138.573</td>\n",
       "      <td>陈情令（电视剧）</td>\n",
       "      <td>93060585</td>\n",
       "      <td>38</td>\n",
       "      <td>1</td>\n",
       "      <td>你是什么样的含光君？浅析剧版与书版蓝忘机的差异</td>\n",
       "      <td>2779</td>\n",
       "      <td>1574349813</td>\n",
       "    </tr>\n",
       "  </tbody>\n",
       "</table>\n",
       "</div>"
      ],
      "text/plain": [
       "        类型               总 id       关键词     文章 id  文章点赞数  文章评论数  \\\n",
       "0  article  14_1574825136.990       李小璐  90620737    774    267   \n",
       "1  article  14_1574825137.717       主持人  90576308  25365   1157   \n",
       "2  article  13_1574825137.707        刘涛  92353372    339     65   \n",
       "3  article  14_1574825138.917      网贷风险  83742265    149     90   \n",
       "4  article  16_1574825138.573  陈情令（电视剧）  93060585     38      1   \n",
       "\n",
       "                  文章题目（文章没有感谢数）    文章观看数      文章创建时间  \n",
       "0  “李小璐出轨视频曝光7天后，我识破了令人胆寒的爱情真相”   245037  1573089756  \n",
       "1     谢娜与董卿同台被“碾压”: 文化断层到底有多可怕?  1072054  1573047546  \n",
       "2                       刘涛，你够了！   215292  1574051699  \n",
       "3             因面子，深陷网贷的我，最后这样上岸    63565  1569225309  \n",
       "4       你是什么样的含光君？浅析剧版与书版蓝忘机的差异     2779  1574349813  "
      ]
     },
     "execution_count": 5,
     "metadata": {},
     "output_type": "execute_result"
    }
   ],
   "source": [
    "f=open('task_3.2_zhihu_timeline_article.csv')\n",
    "zhihu_data_article=pd.read_csv(f)\n",
    "zhihu_data_article.head()"
   ]
  },
  {
   "cell_type": "code",
   "execution_count": 6,
   "metadata": {},
   "outputs": [
    {
     "data": {
      "text/plain": [
       "<matplotlib.collections.PathCollection at 0x12025e2d0>"
      ]
     },
     "execution_count": 6,
     "metadata": {},
     "output_type": "execute_result"
    },
    {
     "data": {
      "image/png": "[encoded data removed]",
      "text/plain": [
       "<Figure size 432x288 with 1 Axes>"
      ]
     },
     "metadata": {
      "needs_background": "light"
     },
     "output_type": "display_data"
    }
   ],
   "source": [
    "like_num2=zhihu_data_article.values[:,4]\n",
    "comment_num=zhihu_data_article.values[:,5]\n",
    "fig3=plt.figure()\n",
    "cx=fig3.add_subplot(111)\n",
    "cx.set_xlabel('like_num')\n",
    "cx.set_ylabel('comment_num')\n",
    "cx.scatter(like_num2,comment_num)"
   ]
  },
  {
   "cell_type": "code",
   "execution_count": 7,
   "metadata": {},
   "outputs": [
    {
     "data": {
      "text/plain": [
       "{'whiskers': [<matplotlib.lines.Line2D at 0x11f0e1c10>,\n",
       "  <matplotlib.lines.Line2D at 0x11f0d0fd0>],\n",
       " 'caps': [<matplotlib.lines.Line2D at 0x11f0ea6d0>,\n",
       "  <matplotlib.lines.Line2D at 0x11f0eabd0>],\n",
       " 'boxes': [<matplotlib.lines.Line2D at 0x11ceb6fd0>],\n",
       " 'medians': [<matplotlib.lines.Line2D at 0x11f0e1c90>],\n",
       " 'fliers': [<matplotlib.lines.Line2D at 0x11f0f3650>],\n",
       " 'means': []}"
      ]
     },
     "execution_count": 7,
     "metadata": {},
     "output_type": "execute_result"
    },
    {
     "data": {
      "image/png": "[encoded data removed]",
      "text/plain": [
       "<Figure size 432x288 with 1 Axes>"
      ]
     },
     "metadata": {
      "needs_background": "light"
     },
     "output_type": "display_data"
    }
   ],
   "source": [
    "conditional_like_num=zhihu_data_article[zhihu_data_article['文章点赞数']<1000]\n",
    "fig4,dx=plt.subplots()\n",
    "dx.boxplot(conditional_like_num['文章点赞数'].values)"
   ]
  }
 ],
 "metadata": {
  "kernelspec": {
   "display_name": "Python 3",
   "language": "python",
   "name": "python3"
  },
  "language_info": {
   "codemirror_mode": {
    "name": "ipython",
    "version": 3
   },
   "file_extension": ".py",
   "mimetype": "text/x-python",
   "name": "python",
   "nbconvert_exporter": "python",
   "pygments_lexer": "ipython3",
   "version": "3.7.4"
  }
 },
 "nbformat": 4,
 "nbformat_minor": 2
}
