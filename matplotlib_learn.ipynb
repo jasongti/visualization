{
 "cells": [
  {
   "cell_type": "code",
   "execution_count": 1,
   "metadata": {},
   "outputs": [],
   "source": [
    "# coding:utf8\n",
    "import pandas as pd\n",
    "import numpy as np\n",
    "from matplotlib import pyplot as plt"
   ]
  },
  {
   "cell_type": "code",
   "execution_count": 2,
   "metadata": {},
   "outputs": [],
   "source": [
    "lianjia_data = pd.read_csv('task_2_lianjia_data.csv')"
   ]
  },
  {
   "cell_type": "code",
   "execution_count": 3,
   "metadata": {},
   "outputs": [
    {
     "data": {
      "text/html": [
       "<div>\n",
       "<style scoped>\n",
       "    .dataframe tbody tr th:only-of-type {\n",
       "        vertical-align: middle;\n",
       "    }\n",
       "\n",
       "    .dataframe tbody tr th {\n",
       "        vertical-align: top;\n",
       "    }\n",
       "\n",
       "    .dataframe thead th {\n",
       "        text-align: right;\n",
       "    }\n",
       "</style>\n",
       "<table border=\"1\" class=\"dataframe\">\n",
       "  <thead>\n",
       "    <tr style=\"text-align: right;\">\n",
       "      <th></th>\n",
       "      <th>简介（方式·小区名 户型 朝向）</th>\n",
       "      <th>区</th>\n",
       "      <th>地铁站</th>\n",
       "      <th>村</th>\n",
       "      <th>面积大小（㎡）</th>\n",
       "      <th>朝向</th>\n",
       "      <th>户型</th>\n",
       "      <th>楼层类型</th>\n",
       "      <th>楼层（层）</th>\n",
       "      <th>标签</th>\n",
       "    </tr>\n",
       "  </thead>\n",
       "  <tbody>\n",
       "    <tr>\n",
       "      <td>0</td>\n",
       "      <td>整租·长桥一村 1室0厅 南</td>\n",
       "      <td>徐汇</td>\n",
       "      <td>长桥</td>\n",
       "      <td>长桥一村</td>\n",
       "      <td>39</td>\n",
       "      <td>南</td>\n",
       "      <td>1室0厅1卫</td>\n",
       "      <td>高楼层</td>\n",
       "      <td>6</td>\n",
       "      <td>随时看房</td>\n",
       "    </tr>\n",
       "    <tr>\n",
       "      <td>1</td>\n",
       "      <td>整租·馨宁公寓 1室1厅 南</td>\n",
       "      <td>徐汇</td>\n",
       "      <td>华泾</td>\n",
       "      <td>馨宁公寓</td>\n",
       "      <td>42</td>\n",
       "      <td>南</td>\n",
       "      <td>1室1厅1卫</td>\n",
       "      <td>高楼层</td>\n",
       "      <td>29</td>\n",
       "      <td>精装,随时看房</td>\n",
       "    </tr>\n",
       "    <tr>\n",
       "      <td>2</td>\n",
       "      <td>整租·长桥三村 2室1厅 南</td>\n",
       "      <td>徐汇</td>\n",
       "      <td>长桥</td>\n",
       "      <td>长桥三村</td>\n",
       "      <td>51</td>\n",
       "      <td>南</td>\n",
       "      <td>2室1厅1卫</td>\n",
       "      <td>高楼层</td>\n",
       "      <td>6</td>\n",
       "      <td>随时看房</td>\n",
       "    </tr>\n",
       "    <tr>\n",
       "      <td>3</td>\n",
       "      <td>整租·东湾小区 1室1厅 南</td>\n",
       "      <td>徐汇</td>\n",
       "      <td>华泾</td>\n",
       "      <td>东湾小区</td>\n",
       "      <td>47</td>\n",
       "      <td>南</td>\n",
       "      <td>1室1厅1卫</td>\n",
       "      <td>中楼层</td>\n",
       "      <td>6</td>\n",
       "      <td>随时看房</td>\n",
       "    </tr>\n",
       "    <tr>\n",
       "      <td>4</td>\n",
       "      <td>整租·花苑村紫竹园 1室1厅 南</td>\n",
       "      <td>徐汇</td>\n",
       "      <td>康健</td>\n",
       "      <td>花苑村紫竹园</td>\n",
       "      <td>42</td>\n",
       "      <td>南</td>\n",
       "      <td>1室1厅1卫</td>\n",
       "      <td>高楼层</td>\n",
       "      <td>6</td>\n",
       "      <td>随时看房</td>\n",
       "    </tr>\n",
       "  </tbody>\n",
       "</table>\n",
       "</div>"
      ],
      "text/plain": [
       "   简介（方式·小区名 户型 朝向）   区 地铁站       村  面积大小（㎡） 朝向      户型  \\\n",
       "0    整租·长桥一村 1室0厅 南  徐汇  长桥    长桥一村       39  南  1室0厅1卫   \n",
       "1    整租·馨宁公寓 1室1厅 南  徐汇  华泾    馨宁公寓       42  南  1室1厅1卫   \n",
       "2    整租·长桥三村 2室1厅 南  徐汇  长桥    长桥三村       51  南  2室1厅1卫   \n",
       "3    整租·东湾小区 1室1厅 南  徐汇  华泾    东湾小区       47  南  1室1厅1卫   \n",
       "4  整租·花苑村紫竹园 1室1厅 南  徐汇  康健  花苑村紫竹园       42  南  1室1厅1卫   \n",
       "\n",
       "                          楼层类型  楼层（层）       标签  \n",
       "0  高楼层                              6     随时看房  \n",
       "1  高楼层                             29  精装,随时看房  \n",
       "2  高楼层                              6     随时看房  \n",
       "3  中楼层                              6     随时看房  \n",
       "4  高楼层                              6     随时看房  "
      ]
     },
     "execution_count": 3,
     "metadata": {},
     "output_type": "execute_result"
    }
   ],
   "source": [
    "lianjia_data.head()"
   ]
  },
  {
   "cell_type": "code",
   "execution_count": 4,
   "metadata": {},
   "outputs": [
    {
     "name": "stderr",
     "output_type": "stream",
     "text": [
      "/Users/jason/anaconda3/lib/python3.7/site-packages/ipykernel_launcher.py:1: FutureWarning: using a dict on a Series for aggregation\n",
      "is deprecated and will be removed in a future version. Use                 named aggregation instead.\n",
      "\n",
      "    >>> grouper.agg(name_1=func_1, name_2=func_2)\n",
      "\n",
      "  \"\"\"Entry point for launching an IPython kernel.\n"
     ]
    },
    {
     "data": {
      "text/html": [
       "<div>\n",
       "<style scoped>\n",
       "    .dataframe tbody tr th:only-of-type {\n",
       "        vertical-align: middle;\n",
       "    }\n",
       "\n",
       "    .dataframe tbody tr th {\n",
       "        vertical-align: top;\n",
       "    }\n",
       "\n",
       "    .dataframe thead th {\n",
       "        text-align: right;\n",
       "    }\n",
       "</style>\n",
       "<table border=\"1\" class=\"dataframe\">\n",
       "  <thead>\n",
       "    <tr style=\"text-align: right;\">\n",
       "      <th></th>\n",
       "      <th>房源数量（套）</th>\n",
       "    </tr>\n",
       "    <tr>\n",
       "      <th>面积大小（㎡）</th>\n",
       "      <th></th>\n",
       "    </tr>\n",
       "  </thead>\n",
       "  <tbody>\n",
       "    <tr>\n",
       "      <td>7</td>\n",
       "      <td>1</td>\n",
       "    </tr>\n",
       "    <tr>\n",
       "      <td>9</td>\n",
       "      <td>3</td>\n",
       "    </tr>\n",
       "    <tr>\n",
       "      <td>10</td>\n",
       "      <td>1</td>\n",
       "    </tr>\n",
       "    <tr>\n",
       "      <td>11</td>\n",
       "      <td>1</td>\n",
       "    </tr>\n",
       "    <tr>\n",
       "      <td>12</td>\n",
       "      <td>1</td>\n",
       "    </tr>\n",
       "    <tr>\n",
       "      <td>...</td>\n",
       "      <td>...</td>\n",
       "    </tr>\n",
       "    <tr>\n",
       "      <td>152</td>\n",
       "      <td>1</td>\n",
       "    </tr>\n",
       "    <tr>\n",
       "      <td>155</td>\n",
       "      <td>1</td>\n",
       "    </tr>\n",
       "    <tr>\n",
       "      <td>162</td>\n",
       "      <td>1</td>\n",
       "    </tr>\n",
       "    <tr>\n",
       "      <td>171</td>\n",
       "      <td>1</td>\n",
       "    </tr>\n",
       "    <tr>\n",
       "      <td>172</td>\n",
       "      <td>1</td>\n",
       "    </tr>\n",
       "  </tbody>\n",
       "</table>\n",
       "<p>123 rows × 1 columns</p>\n",
       "</div>"
      ],
      "text/plain": [
       "         房源数量（套）\n",
       "面积大小（㎡）         \n",
       "7              1\n",
       "9              3\n",
       "10             1\n",
       "11             1\n",
       "12             1\n",
       "...          ...\n",
       "152            1\n",
       "155            1\n",
       "162            1\n",
       "171            1\n",
       "172            1\n",
       "\n",
       "[123 rows x 1 columns]"
      ]
     },
     "execution_count": 4,
     "metadata": {},
     "output_type": "execute_result"
    }
   ],
   "source": [
    "original_data = lianjia_data.groupby(\"面积大小（㎡）\")[\"面积大小（㎡）\"].agg({'房源数量（套）':'count'})\n",
    "original_data"
   ]
  },
  {
   "cell_type": "code",
   "execution_count": 5,
   "metadata": {},
   "outputs": [
    {
     "data": {
      "text/plain": [
       "array([ 1,  3,  1,  1,  1,  1,  2,  5,  4,  1,  4,  1,  7,  2,  4,  4,  4,\n",
       "        6,  3,  7, 12, 16, 37, 11, 19, 21, 29, 38, 24, 18, 24, 11,  9, 22,\n",
       "       20, 15,  8, 16, 15, 10, 17,  9, 14, 10, 17,  8,  9, 10,  6,  3,  4,\n",
       "        3,  8,  9,  6,  5,  6,  3,  7,  2,  5,  4,  5,  4,  2,  3,  3,  2,\n",
       "        4,  2,  3,  3,  6,  3,  2,  1,  2,  1,  2,  2,  6,  4,  7,  3,  5,\n",
       "        2,  3,  9,  4,  2,  4,  3,  2,  2,  1,  4,  4,  2,  3,  1,  2,  2,\n",
       "        1,  1,  2,  2,  1,  1,  1,  1,  2,  1,  2,  1,  1,  1,  1,  1,  1,\n",
       "        1,  1,  1,  1])"
      ]
     },
     "execution_count": 5,
     "metadata": {},
     "output_type": "execute_result"
    }
   ],
   "source": [
    "y_count = original_data.values[:,0]\n",
    "y_count"
   ]
  },
  {
   "cell_type": "code",
   "execution_count": 6,
   "metadata": {},
   "outputs": [
    {
     "data": {
      "text/plain": [
       "array([  7,   9,  10,  11,  12,  13,  14,  15,  16,  17,  18,  19,  20,\n",
       "        21,  22,  23,  24,  25,  26,  27,  28,  29,  30,  31,  32,  33,\n",
       "        34,  35,  36,  37,  38,  39,  40,  41,  42,  43,  44,  45,  46,\n",
       "        47,  48,  49,  50,  51,  52,  53,  54,  55,  56,  57,  58,  59,\n",
       "        60,  61,  62,  63,  64,  65,  66,  67,  68,  69,  70,  71,  72,\n",
       "        73,  74,  75,  76,  77,  78,  79,  80,  81,  82,  83,  84,  85,\n",
       "        86,  87,  88,  89,  90,  91,  92,  93,  94,  95,  96,  97,  98,\n",
       "        99, 100, 103, 104, 105, 106, 108, 109, 110, 111, 113, 116, 118,\n",
       "       121, 123, 125, 126, 128, 129, 130, 131, 133, 137, 139, 143, 145,\n",
       "       151, 152, 155, 162, 171, 172])"
      ]
     },
     "execution_count": 6,
     "metadata": {},
     "output_type": "execute_result"
    }
   ],
   "source": [
    "x_area = original_data.index.values\n",
    "x_area"
   ]
  },
  {
   "cell_type": "code",
   "execution_count": 7,
   "metadata": {},
   "outputs": [
    {
     "name": "stderr",
     "output_type": "stream",
     "text": [
      "/Users/jason/anaconda3/lib/python3.7/site-packages/ipykernel_launcher.py:17: UserWarning: Matplotlib is currently using module://ipykernel.pylab.backend_inline, which is a non-GUI backend, so cannot show the figure.\n"
     ]
    },
    {
     "data": {
      "image/png": "[encoded data removed]",
      "text/plain": [
       "<Figure size 432x288 with 2 Axes>"
      ]
     },
     "metadata": {
      "needs_background": "light"
     },
     "output_type": "display_data"
    }
   ],
   "source": [
    "fig = plt.figure(edgecolor='black',frameon=True)\n",
    "fig.suptitle('面积分布图')\n",
    "plt.rcParams['font.sans-serif'] = ['Arial Unicode MS']\n",
    "\n",
    "ax1=fig.add_subplot(2,1,1)      \n",
    "ax1.plot(x_area,y_count,'r^-',label='count')\n",
    "ax1.set_xlabel('房屋面积')\n",
    "ax1.set_ylabel('房源数量')\n",
    "ax1.legend(loc=\"upper right\")\n",
    "\n",
    "ax2=fig.add_subplot(2,1,2)\n",
    "ax2.bar(x_area,y_count,color='lightblue',label='count')\n",
    "ax2.set_xlabel('房屋面积')\n",
    "ax2.set_ylabel('房源数量')\n",
    "ax2.legend(loc=\"upper right\")\n",
    "\n",
    "fig.show()\n",
    "plt.show()"
   ]
  },
  {
   "cell_type": "code",
   "execution_count": 8,
   "metadata": {},
   "outputs": [
    {
     "data": {
      "text/plain": [
       "区\n",
       "嘉定      6\n",
       "奉贤      1\n",
       "徐汇    126\n",
       "普陀     22\n",
       "杨浦     56\n",
       "松江     45\n",
       "浦东    106\n",
       "虹口     24\n",
       "长宁     86\n",
       "闵行     86\n",
       "青浦     10\n",
       "静安    108\n",
       "黄浦     76\n",
       "Name: 面积大小（㎡）, dtype: int64"
      ]
     },
     "execution_count": 8,
     "metadata": {},
     "output_type": "execute_result"
    }
   ],
   "source": [
    "district_data = lianjia_data.groupby(\"区\")[\"面积大小（㎡）\"].agg('count')\n",
    "district_data"
   ]
  },
  {
   "cell_type": "code",
   "execution_count": 9,
   "metadata": {},
   "outputs": [
    {
     "data": {
      "text/plain": [
       "array(['嘉定', '奉贤', '徐汇', '普陀', '杨浦', '松江', '浦东', '虹口', '长宁', '闵行', '青浦',\n",
       "       '静安', '黄浦'], dtype=object)"
      ]
     },
     "execution_count": 9,
     "metadata": {},
     "output_type": "execute_result"
    }
   ],
   "source": [
    "x_district = district_data.index.values\n",
    "x_district"
   ]
  },
  {
   "cell_type": "code",
   "execution_count": 10,
   "metadata": {},
   "outputs": [
    {
     "data": {
      "text/plain": [
       "array([  6,   1, 126,  22,  56,  45, 106,  24,  86,  86,  10, 108,  76])"
      ]
     },
     "execution_count": 10,
     "metadata": {},
     "output_type": "execute_result"
    }
   ],
   "source": [
    "y_total = district_data.values\n",
    "y_total"
   ]
  },
  {
   "cell_type": "code",
   "execution_count": 11,
   "metadata": {},
   "outputs": [
    {
     "data": {
      "image/png": "[encoded data removed]",
      "text/plain": [
       "<Figure size 432x288 with 1 Axes>"
      ]
     },
     "metadata": {
      "needs_background": "light"
     },
     "output_type": "display_data"
    }
   ],
   "source": [
    "fig,ax = plt.subplots(1,1)\n",
    "# ax1=ax[0]\n",
    "ax.bar(x_district,y_total,color='lightgreen')\n",
    "ax.set_title('按区分类房源数量') \n",
    "plt.rcParams['font.sans-serif'] = ['Arial Unicode MS']\n",
    "plt.show()"
   ]
  },
  {
   "cell_type": "code",
   "execution_count": 12,
   "metadata": {},
   "outputs": [
    {
     "data": {
      "text/plain": [
       "楼层类型\n",
       "中楼层                            231\n",
       "低楼层                            146\n",
       "地下室                              5\n",
       "高楼层                            370\n",
       "Name: 楼层类型, dtype: int64"
      ]
     },
     "execution_count": 12,
     "metadata": {},
     "output_type": "execute_result"
    }
   ],
   "source": [
    "floor_data = lianjia_data.groupby('楼层类型')['楼层类型'].agg('count')\n",
    "floor_data"
   ]
  },
  {
   "cell_type": "code",
   "execution_count": 13,
   "metadata": {},
   "outputs": [
    {
     "data": {
      "text/plain": [
       "['中楼层', '低楼层', '地下室', '高楼层']"
      ]
     },
     "execution_count": 13,
     "metadata": {},
     "output_type": "execute_result"
    }
   ],
   "source": [
    "x_floor = [i.split(' ')[0]  for i in floor_data.index.tolist()]\n",
    "x_floor"
   ]
  },
  {
   "cell_type": "code",
   "execution_count": 14,
   "metadata": {},
   "outputs": [
    {
     "data": {
      "text/plain": [
       "[231, 146, 5, 370]"
      ]
     },
     "execution_count": 14,
     "metadata": {},
     "output_type": "execute_result"
    }
   ],
   "source": [
    "y_total_count = floor_data.tolist()\n",
    "y_total_count"
   ]
  },
  {
   "cell_type": "code",
   "execution_count": 15,
   "metadata": {},
   "outputs": [
    {
     "data": {
      "image/png": "[encoded data removed]",
      "text/plain": [
       "<Figure size 432x288 with 1 Axes>"
      ]
     },
     "metadata": {},
     "output_type": "display_data"
    }
   ],
   "source": [
    "plt.pie(y_total_count,labels = x_floor,autopct='%2.2f%%')\n",
    "plt.rcParams['font.sans-serif'] = ['Arial Unicode MS']\n",
    "plt.title('楼层分布')\n",
    "plt.show()"
   ]
  }
 ],
 "metadata": {
  "kernelspec": {
   "display_name": "Python 3",
   "language": "python",
   "name": "python3"
  },
  "language_info": {
   "codemirror_mode": {
    "name": "ipython",
    "version": 3
   },
   "file_extension": ".py",
   "mimetype": "text/x-python",
   "name": "python",
   "nbconvert_exporter": "python",
   "pygments_lexer": "ipython3",
   "version": "3.7.4"
  }
 },
 "nbformat": 4,
 "nbformat_minor": 2
}
