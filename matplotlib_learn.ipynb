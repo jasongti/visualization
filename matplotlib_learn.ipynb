{
  "cells": [
    {
      "cell_type": "code",
      "execution_count": 122,
      "metadata": {
        "pycharm": {}
      },
      "outputs": [],
      "source": [
        "# coding:utf8\n",
        "%matplotlib inline\n",
        "import sys\n",
        "import pandas as pd\n",
        "import numpy as np\n",
        "import matplotlib\n",
        "from matplotlib import pyplot as plt"
      ]
    },
    {
      "cell_type": "code",
      "execution_count": 123,
      "metadata": {
        "pycharm": {}
      },
      "outputs": [],
      "source": [
        "lianjia_data \u003d pd.read_csv(\u0027task_2_lianjia_data.csv\u0027)"
      ]
    },
    {
      "cell_type": "code",
      "execution_count": 124,
      "metadata": {
        "pycharm": {}
      },
      "outputs": [
        {
          "data": {
            "text/html": [
              "\u003cdiv\u003e\n",
              "\u003cstyle scoped\u003e\n",
              "    .dataframe tbody tr th:only-of-type {\n",
              "        vertical-align: middle;\n",
              "    }\n",
              "\n",
              "    .dataframe tbody tr th {\n",
              "        vertical-align: top;\n",
              "    }\n",
              "\n",
              "    .dataframe thead th {\n",
              "        text-align: right;\n",
              "    }\n",
              "\u003c/style\u003e\n",
              "\u003ctable border\u003d\"1\" class\u003d\"dataframe\"\u003e\n",
              "  \u003cthead\u003e\n",
              "    \u003ctr style\u003d\"text-align: right;\"\u003e\n",
              "      \u003cth\u003e\u003c/th\u003e\n",
              "      \u003cth\u003e简介（方式·小区名 户型 朝向）\u003c/th\u003e\n",
              "      \u003cth\u003e区\u003c/th\u003e\n",
              "      \u003cth\u003e地铁站\u003c/th\u003e\n",
              "      \u003cth\u003e村\u003c/th\u003e\n",
              "      \u003cth\u003e面积大小（㎡）\u003c/th\u003e\n",
              "      \u003cth\u003e朝向\u003c/th\u003e\n",
              "      \u003cth\u003e户型\u003c/th\u003e\n",
              "      \u003cth\u003e楼层类型\u003c/th\u003e\n",
              "      \u003cth\u003e楼层（层）\u003c/th\u003e\n",
              "      \u003cth\u003e标签\u003c/th\u003e\n",
              "    \u003c/tr\u003e\n",
              "  \u003c/thead\u003e\n",
              "  \u003ctbody\u003e\n",
              "    \u003ctr\u003e\n",
              "      \u003ctd\u003e0\u003c/td\u003e\n",
              "      \u003ctd\u003e整租·长桥一村 1室0厅 南\u003c/td\u003e\n",
              "      \u003ctd\u003e徐汇\u003c/td\u003e\n",
              "      \u003ctd\u003e长桥\u003c/td\u003e\n",
              "      \u003ctd\u003e长桥一村\u003c/td\u003e\n",
              "      \u003ctd\u003e39\u003c/td\u003e\n",
              "      \u003ctd\u003e南\u003c/td\u003e\n",
              "      \u003ctd\u003e1室0厅1卫\u003c/td\u003e\n",
              "      \u003ctd\u003e高楼层\u003c/td\u003e\n",
              "      \u003ctd\u003e6\u003c/td\u003e\n",
              "      \u003ctd\u003e随时看房\u003c/td\u003e\n",
              "    \u003c/tr\u003e\n",
              "    \u003ctr\u003e\n",
              "      \u003ctd\u003e1\u003c/td\u003e\n",
              "      \u003ctd\u003e整租·馨宁公寓 1室1厅 南\u003c/td\u003e\n",
              "      \u003ctd\u003e徐汇\u003c/td\u003e\n",
              "      \u003ctd\u003e华泾\u003c/td\u003e\n",
              "      \u003ctd\u003e馨宁公寓\u003c/td\u003e\n",
              "      \u003ctd\u003e42\u003c/td\u003e\n",
              "      \u003ctd\u003e南\u003c/td\u003e\n",
              "      \u003ctd\u003e1室1厅1卫\u003c/td\u003e\n",
              "      \u003ctd\u003e高楼层\u003c/td\u003e\n",
              "      \u003ctd\u003e29\u003c/td\u003e\n",
              "      \u003ctd\u003e精装,随时看房\u003c/td\u003e\n",
              "    \u003c/tr\u003e\n",
              "    \u003ctr\u003e\n",
              "      \u003ctd\u003e2\u003c/td\u003e\n",
              "      \u003ctd\u003e整租·长桥三村 2室1厅 南\u003c/td\u003e\n",
              "      \u003ctd\u003e徐汇\u003c/td\u003e\n",
              "      \u003ctd\u003e长桥\u003c/td\u003e\n",
              "      \u003ctd\u003e长桥三村\u003c/td\u003e\n",
              "      \u003ctd\u003e51\u003c/td\u003e\n",
              "      \u003ctd\u003e南\u003c/td\u003e\n",
              "      \u003ctd\u003e2室1厅1卫\u003c/td\u003e\n",
              "      \u003ctd\u003e高楼层\u003c/td\u003e\n",
              "      \u003ctd\u003e6\u003c/td\u003e\n",
              "      \u003ctd\u003e随时看房\u003c/td\u003e\n",
              "    \u003c/tr\u003e\n",
              "    \u003ctr\u003e\n",
              "      \u003ctd\u003e3\u003c/td\u003e\n",
              "      \u003ctd\u003e整租·东湾小区 1室1厅 南\u003c/td\u003e\n",
              "      \u003ctd\u003e徐汇\u003c/td\u003e\n",
              "      \u003ctd\u003e华泾\u003c/td\u003e\n",
              "      \u003ctd\u003e东湾小区\u003c/td\u003e\n",
              "      \u003ctd\u003e47\u003c/td\u003e\n",
              "      \u003ctd\u003e南\u003c/td\u003e\n",
              "      \u003ctd\u003e1室1厅1卫\u003c/td\u003e\n",
              "      \u003ctd\u003e中楼层\u003c/td\u003e\n",
              "      \u003ctd\u003e6\u003c/td\u003e\n",
              "      \u003ctd\u003e随时看房\u003c/td\u003e\n",
              "    \u003c/tr\u003e\n",
              "    \u003ctr\u003e\n",
              "      \u003ctd\u003e4\u003c/td\u003e\n",
              "      \u003ctd\u003e整租·花苑村紫竹园 1室1厅 南\u003c/td\u003e\n",
              "      \u003ctd\u003e徐汇\u003c/td\u003e\n",
              "      \u003ctd\u003e康健\u003c/td\u003e\n",
              "      \u003ctd\u003e花苑村紫竹园\u003c/td\u003e\n",
              "      \u003ctd\u003e42\u003c/td\u003e\n",
              "      \u003ctd\u003e南\u003c/td\u003e\n",
              "      \u003ctd\u003e1室1厅1卫\u003c/td\u003e\n",
              "      \u003ctd\u003e高楼层\u003c/td\u003e\n",
              "      \u003ctd\u003e6\u003c/td\u003e\n",
              "      \u003ctd\u003e随时看房\u003c/td\u003e\n",
              "    \u003c/tr\u003e\n",
              "  \u003c/tbody\u003e\n",
              "\u003c/table\u003e\n",
              "\u003c/div\u003e"
            ],
            "text/plain": [
              "   简介（方式·小区名 户型 朝向）   区 地铁站       村  面积大小（㎡） 朝向      户型  \\\n",
              "0    整租·长桥一村 1室0厅 南  徐汇  长桥    长桥一村       39  南  1室0厅1卫   \n",
              "1    整租·馨宁公寓 1室1厅 南  徐汇  华泾    馨宁公寓       42  南  1室1厅1卫   \n",
              "2    整租·长桥三村 2室1厅 南  徐汇  长桥    长桥三村       51  南  2室1厅1卫   \n",
              "3    整租·东湾小区 1室1厅 南  徐汇  华泾    东湾小区       47  南  1室1厅1卫   \n",
              "4  整租·花苑村紫竹园 1室1厅 南  徐汇  康健  花苑村紫竹园       42  南  1室1厅1卫   \n",
              "\n",
              "                          楼层类型  楼层（层）       标签  \n",
              "0  高楼层                              6     随时看房  \n",
              "1  高楼层                             29  精装,随时看房  \n",
              "2  高楼层                              6     随时看房  \n",
              "3  中楼层                              6     随时看房  \n",
              "4  高楼层                              6     随时看房  "
            ]
          },
          "execution_count": 124,
          "metadata": {},
          "output_type": "execute_result"
        }
      ],
      "source": [
        "lianjia_data.head()"
      ]
    },
    {
      "cell_type": "code",
      "execution_count": 125,
      "metadata": {
        "pycharm": {}
      },
      "outputs": [
        {
          "name": "stderr",
          "output_type": "stream",
          "text": [
            "/Users/jason/anaconda3/lib/python3.7/site-packages/ipykernel_launcher.py:1: FutureWarning: using a dict on a Series for aggregation\n",
            "is deprecated and will be removed in a future version. Use                 named aggregation instead.\n",
            "\n",
            "    \u003e\u003e\u003e grouper.agg(name_1\u003dfunc_1, name_2\u003dfunc_2)\n",
            "\n",
            "  \"\"\"Entry point for launching an IPython kernel.\n"
          ]
        },
        {
          "data": {
            "text/html": [
              "\u003cdiv\u003e\n",
              "\u003cstyle scoped\u003e\n",
              "    .dataframe tbody tr th:only-of-type {\n",
              "        vertical-align: middle;\n",
              "    }\n",
              "\n",
              "    .dataframe tbody tr th {\n",
              "        vertical-align: top;\n",
              "    }\n",
              "\n",
              "    .dataframe thead th {\n",
              "        text-align: right;\n",
              "    }\n",
              "\u003c/style\u003e\n",
              "\u003ctable border\u003d\"1\" class\u003d\"dataframe\"\u003e\n",
              "  \u003cthead\u003e\n",
              "    \u003ctr style\u003d\"text-align: right;\"\u003e\n",
              "      \u003cth\u003e\u003c/th\u003e\n",
              "      \u003cth\u003e房源数量（套）\u003c/th\u003e\n",
              "    \u003c/tr\u003e\n",
              "    \u003ctr\u003e\n",
              "      \u003cth\u003e面积大小（㎡）\u003c/th\u003e\n",
              "      \u003cth\u003e\u003c/th\u003e\n",
              "    \u003c/tr\u003e\n",
              "  \u003c/thead\u003e\n",
              "  \u003ctbody\u003e\n",
              "    \u003ctr\u003e\n",
              "      \u003ctd\u003e7\u003c/td\u003e\n",
              "      \u003ctd\u003e1\u003c/td\u003e\n",
              "    \u003c/tr\u003e\n",
              "    \u003ctr\u003e\n",
              "      \u003ctd\u003e9\u003c/td\u003e\n",
              "      \u003ctd\u003e3\u003c/td\u003e\n",
              "    \u003c/tr\u003e\n",
              "    \u003ctr\u003e\n",
              "      \u003ctd\u003e10\u003c/td\u003e\n",
              "      \u003ctd\u003e1\u003c/td\u003e\n",
              "    \u003c/tr\u003e\n",
              "    \u003ctr\u003e\n",
              "      \u003ctd\u003e11\u003c/td\u003e\n",
              "      \u003ctd\u003e1\u003c/td\u003e\n",
              "    \u003c/tr\u003e\n",
              "    \u003ctr\u003e\n",
              "      \u003ctd\u003e12\u003c/td\u003e\n",
              "      \u003ctd\u003e1\u003c/td\u003e\n",
              "    \u003c/tr\u003e\n",
              "    \u003ctr\u003e\n",
              "      \u003ctd\u003e...\u003c/td\u003e\n",
              "      \u003ctd\u003e...\u003c/td\u003e\n",
              "    \u003c/tr\u003e\n",
              "    \u003ctr\u003e\n",
              "      \u003ctd\u003e152\u003c/td\u003e\n",
              "      \u003ctd\u003e1\u003c/td\u003e\n",
              "    \u003c/tr\u003e\n",
              "    \u003ctr\u003e\n",
              "      \u003ctd\u003e155\u003c/td\u003e\n",
              "      \u003ctd\u003e1\u003c/td\u003e\n",
              "    \u003c/tr\u003e\n",
              "    \u003ctr\u003e\n",
              "      \u003ctd\u003e162\u003c/td\u003e\n",
              "      \u003ctd\u003e1\u003c/td\u003e\n",
              "    \u003c/tr\u003e\n",
              "    \u003ctr\u003e\n",
              "      \u003ctd\u003e171\u003c/td\u003e\n",
              "      \u003ctd\u003e1\u003c/td\u003e\n",
              "    \u003c/tr\u003e\n",
              "    \u003ctr\u003e\n",
              "      \u003ctd\u003e172\u003c/td\u003e\n",
              "      \u003ctd\u003e1\u003c/td\u003e\n",
              "    \u003c/tr\u003e\n",
              "  \u003c/tbody\u003e\n",
              "\u003c/table\u003e\n",
              "\u003cp\u003e123 rows × 1 columns\u003c/p\u003e\n",
              "\u003c/div\u003e"
            ],
            "text/plain": [
              "         房源数量（套）\n",
              "面积大小（㎡）         \n",
              "7              1\n",
              "9              3\n",
              "10             1\n",
              "11             1\n",
              "12             1\n",
              "...          ...\n",
              "152            1\n",
              "155            1\n",
              "162            1\n",
              "171            1\n",
              "172            1\n",
              "\n",
              "[123 rows x 1 columns]"
            ]
          },
          "execution_count": 125,
          "metadata": {},
          "output_type": "execute_result"
        }
      ],
      "source": [
        "original_data \u003d lianjia_data.groupby(\"面积大小（㎡）\")[\"面积大小（㎡）\"].agg({\u0027房源数量（套）\u0027:\u0027count\u0027})\n",
        "original_data"
      ]
    },
    {
      "cell_type": "code",
      "execution_count": 126,
      "metadata": {
        "pycharm": {}
      },
      "outputs": [
        {
          "data": {
            "text/plain": [
              "array([ 1,  3,  1,  1,  1,  1,  2,  5,  4,  1,  4,  1,  7,  2,  4,  4,  4,\n",
              "        6,  3,  7, 12, 16, 37, 11, 19, 21, 29, 38, 24, 18, 24, 11,  9, 22,\n",
              "       20, 15,  8, 16, 15, 10, 17,  9, 14, 10, 17,  8,  9, 10,  6,  3,  4,\n",
              "        3,  8,  9,  6,  5,  6,  3,  7,  2,  5,  4,  5,  4,  2,  3,  3,  2,\n",
              "        4,  2,  3,  3,  6,  3,  2,  1,  2,  1,  2,  2,  6,  4,  7,  3,  5,\n",
              "        2,  3,  9,  4,  2,  4,  3,  2,  2,  1,  4,  4,  2,  3,  1,  2,  2,\n",
              "        1,  1,  2,  2,  1,  1,  1,  1,  2,  1,  2,  1,  1,  1,  1,  1,  1,\n",
              "        1,  1,  1,  1])"
            ]
          },
          "execution_count": 126,
          "metadata": {},
          "output_type": "execute_result"
        }
      ],
      "source": [
        "y \u003d original_data.values[:,0]\n",
        "y"
      ]
    },
    {
      "cell_type": "code",
      "execution_count": 127,
      "metadata": {
        "pycharm": {}
      },
      "outputs": [
        {
          "data": {
            "text/plain": [
              "array([  7,   9,  10,  11,  12,  13,  14,  15,  16,  17,  18,  19,  20,\n",
              "        21,  22,  23,  24,  25,  26,  27,  28,  29,  30,  31,  32,  33,\n",
              "        34,  35,  36,  37,  38,  39,  40,  41,  42,  43,  44,  45,  46,\n",
              "        47,  48,  49,  50,  51,  52,  53,  54,  55,  56,  57,  58,  59,\n",
              "        60,  61,  62,  63,  64,  65,  66,  67,  68,  69,  70,  71,  72,\n",
              "        73,  74,  75,  76,  77,  78,  79,  80,  81,  82,  83,  84,  85,\n",
              "        86,  87,  88,  89,  90,  91,  92,  93,  94,  95,  96,  97,  98,\n",
              "        99, 100, 103, 104, 105, 106, 108, 109, 110, 111, 113, 116, 118,\n",
              "       121, 123, 125, 126, 128, 129, 130, 131, 133, 137, 139, 143, 145,\n",
              "       151, 152, 155])"
            ]
          },
          "execution_count": 127,
          "metadata": {},
          "output_type": "execute_result"
        }
      ],
      "source": [
        "x \u003d original_data.index.values\n",
        "x[:-3]"
      ]
    },
    {
      "cell_type": "code",
      "execution_count": 141,
      "metadata": {
        "pycharm": {}
      },
      "outputs": [
        {
          "name": "stderr",
          "output_type": "stream",
          "text": [
            "/Users/jason/anaconda3/lib/python3.7/site-packages/ipykernel_launcher.py:2: UserWarning: Matplotlib is currently using module://ipykernel.pylab.backend_inline, which is a non-GUI backend, so cannot show the figure.\n",
            "  \n"
          ]
        },
        {
          "data": {
            "image/png": "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\u003d\u003d\n",
            "text/plain": [
              "\u003cFigure size 432x288 with 1 Axes\u003e"
            ]
          },
          "metadata": {
            "needs_background": "light"
          },
          "output_type": "display_data"
        }
      ],
      "source": "fig \u003d plt.figure(edgecolor\u003d\u0027black\u0027,frameon\u003dTrue)\nfig.show()\nax\u003dfig.add_subplot()      \n# axes \u003d ax[1,1]\nax.plot(x,y,\u0027r^-\u0027,label\u003d\u0027count\u0027)\nax.set_xlabel(\u0027房屋面积\u0027)\nax.set_ylabel(\u0027房源数量\u0027)\nax.set_title(\u0027面积分布\u0027)\nax.legend(loc\u003d\"upper right\")\nplt.show()"
    },
    {
      "cell_type": "code",
      "execution_count": 32,
      "metadata": {
        "pycharm": {}
      },
      "outputs": [
        {
          "data": {
            "image/png": "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\u003d\u003d\n",
            "text/plain": [
              "\u003cFigure size 432x288 with 1 Axes\u003e"
            ]
          },
          "metadata": {
            "needs_background": "light"
          },
          "output_type": "display_data"
        }
      ],
      "source": [
        "plt.bar(x,y,color\u003d\u0027lightblue\u0027)\n",
        "plt.show()"
      ]
    },
    {
      "cell_type": "code",
      "execution_count": 9,
      "metadata": {
        "pycharm": {}
      },
      "outputs": [
        {
          "data": {
            "text/plain": [
              "区\n",
              "嘉定      6\n",
              "奉贤      1\n",
              "徐汇    126\n",
              "普陀     22\n",
              "杨浦     56\n",
              "松江     45\n",
              "浦东    106\n",
              "虹口     24\n",
              "长宁     86\n",
              "闵行     86\n",
              "青浦     10\n",
              "静安    108\n",
              "黄浦     76\n",
              "Name: 面积大小（㎡）, dtype: int64"
            ]
          },
          "execution_count": 9,
          "metadata": {},
          "output_type": "execute_result"
        }
      ],
      "source": [
        "district_data \u003d lianjia_data.groupby(\"区\")[\"面积大小（㎡）\"].agg(\u0027count\u0027)\n",
        "district_data"
      ]
    },
    {
      "cell_type": "code",
      "execution_count": 10,
      "metadata": {
        "pycharm": {}
      },
      "outputs": [
        {
          "data": {
            "text/plain": [
              "array([\u0027嘉定\u0027, \u0027奉贤\u0027, \u0027徐汇\u0027, \u0027普陀\u0027, \u0027杨浦\u0027, \u0027松江\u0027, \u0027浦东\u0027, \u0027虹口\u0027, \u0027长宁\u0027, \u0027闵行\u0027, \u0027青浦\u0027,\n",
              "       \u0027静安\u0027, \u0027黄浦\u0027], dtype\u003dobject)"
            ]
          },
          "execution_count": 10,
          "metadata": {},
          "output_type": "execute_result"
        }
      ],
      "source": [
        "ax \u003d district_data.index.values\n",
        "ax"
      ]
    },
    {
      "cell_type": "code",
      "execution_count": 11,
      "metadata": {
        "pycharm": {}
      },
      "outputs": [
        {
          "data": {
            "text/plain": [
              "array([  6,   1, 126,  22,  56,  45, 106,  24,  86,  86,  10, 108,  76])"
            ]
          },
          "execution_count": 11,
          "metadata": {},
          "output_type": "execute_result"
        }
      ],
      "source": [
        "ay \u003d district_data.values\n",
        "ay"
      ]
    },
    {
      "cell_type": "code",
      "execution_count": 12,
      "metadata": {
        "pycharm": {}
      },
      "outputs": [
        {
          "data": {
            "image/png": "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\u003d\u003d\n",
            "text/plain": [
              "\u003cFigure size 432x288 with 1 Axes\u003e"
            ]
          },
          "metadata": {
            "needs_background": "light"
          },
          "output_type": "display_data"
        }
      ],
      "source": [
        "plt.bar(ax,ay,color\u003d\u0027lightgreen\u0027)\n",
        "plt.title(\u0027按区分类房源数量\u0027) \n",
        "plt.rcParams[\u0027font.sans-serif\u0027] \u003d [\u0027Arial Unicode MS\u0027]\n",
        "plt.show()"
      ]
    },
    {
      "cell_type": "code",
      "execution_count": 13,
      "metadata": {
        "pycharm": {}
      },
      "outputs": [
        {
          "data": {
            "text/plain": [
              "楼层类型\n",
              "中楼层                            231\n",
              "低楼层                            146\n",
              "地下室                              5\n",
              "高楼层                            370\n",
              "Name: 楼层类型, dtype: int64"
            ]
          },
          "execution_count": 13,
          "metadata": {},
          "output_type": "execute_result"
        }
      ],
      "source": [
        "floor_data \u003d lianjia_data.groupby(\u0027楼层类型\u0027)[\u0027楼层类型\u0027].agg(\u0027count\u0027)\n",
        "floor_data"
      ]
    },
    {
      "cell_type": "code",
      "execution_count": 14,
      "metadata": {
        "pycharm": {}
      },
      "outputs": [
        {
          "data": {
            "text/plain": [
              "[\u0027中楼层\u0027, \u0027低楼层\u0027, \u0027地下室\u0027, \u0027高楼层\u0027]"
            ]
          },
          "execution_count": 14,
          "metadata": {},
          "output_type": "execute_result"
        }
      ],
      "source": [
        "bx \u003d [i.split(\u0027 \u0027)[0]  for i in floor_data.index.tolist()]\n",
        "bx"
      ]
    },
    {
      "cell_type": "code",
      "execution_count": 15,
      "metadata": {
        "pycharm": {}
      },
      "outputs": [
        {
          "data": {
            "text/plain": [
              "[231, 146, 5, 370]"
            ]
          },
          "execution_count": 15,
          "metadata": {},
          "output_type": "execute_result"
        }
      ],
      "source": [
        "by \u003d floor_data.tolist()\n",
        "by"
      ]
    },
    {
      "cell_type": "code",
      "execution_count": 33,
      "metadata": {
        "pycharm": {}
      },
      "outputs": [
        {
          "data": {
            "image/png": "[encoded data removed]",
            "text/plain": [
              "\u003cFigure size 432x288 with 1 Axes\u003e"
            ]
          },
          "metadata": {},
          "output_type": "display_data"
        }
      ],
      "source": [
        "plt.pie(by,labels \u003d bx,autopct\u003d\u0027%2.2f%%\u0027)\n",
        "plt.show()"
      ]
    }
  ],
  "metadata": {
    "kernelspec": {
      "display_name": "Python 3",
      "language": "python",
      "name": "python3"
    },
    "language_info": {
      "codemirror_mode": {
        "name": "ipython",
        "version": 3
      },
      "file_extension": ".py",
      "mimetype": "text/x-python",
      "name": "python",
      "nbconvert_exporter": "python",
      "pygments_lexer": "ipython3",
      "version": "3.7.4"
    }
  },
  "nbformat": 4,
  "nbformat_minor": 2
}